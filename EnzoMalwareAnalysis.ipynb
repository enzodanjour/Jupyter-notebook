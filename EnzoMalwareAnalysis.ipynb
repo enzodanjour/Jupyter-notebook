{
  "nbformat": 4,
  "nbformat_minor": 0,
  "metadata": {
    "colab": {
      "name": "EnzoMalwareAnalysis.ipynb",
      "provenance": [],
      "collapsed_sections": [],
      "toc_visible": true,
      "mount_file_id": "1KiwSIZdywrKZumMbG18ZzKO9DtAo6XtH",
      "authorship_tag": "ABX9TyNmDK1WltYVGfL2rzpxCLWa",
      "include_colab_link": true
    },
    "kernelspec": {
      "name": "python3",
      "display_name": "Python 3"
    }
  },
  "cells": [
    {
      "cell_type": "markdown",
      "metadata": {
        "id": "view-in-github",
        "colab_type": "text"
      },
      "source": [
        "<a href=\"https://colab.research.google.com/github/enzodanjour/malware-analysis/blob/main/EnzoMalwareAnalysis.ipynb\" target=\"_parent\"><img src=\"https://colab.research.google.com/assets/colab-badge.svg\" alt=\"Open In Colab\"/></a>"
      ]
    },
    {
      "cell_type": "markdown",
      "metadata": {
        "id": "M6dO9elusEn2"
      },
      "source": [
        "# Malware analysis\n",
        "**Professor:** Ph.D Ramon Dos Reis Fontes\n",
        "\n",
        "**Student:** Enzo Lopes D'anjour de Souza\n",
        "\n",
        "**school enrollment:**\n",
        "20190035658"
      ]
    },
    {
      "cell_type": "markdown",
      "metadata": {
        "id": "zSmTEBu1xbLL"
      },
      "source": [
        "In this Notebook i use Virus Total API to read files and potencial malwares.\n",
        "\n",
        "---\n",
        "\n",
        "\n"
      ]
    },
    {
      "cell_type": "markdown",
      "metadata": {
        "id": "eO_FnNkhsOx2"
      },
      "source": [
        "## Enviroment setting"
      ]
    },
    {
      "cell_type": "markdown",
      "metadata": {
        "id": "lSExQ3UbWLdf"
      },
      "source": [
        "### Import Nest_Asycio\n",
        "This line is added to can use async requests in Jupyter."
      ]
    },
    {
      "cell_type": "code",
      "metadata": {
        "id": "RI7F1GRcE9eK"
      },
      "source": [
        "import nest_asyncio\n",
        "nest_asyncio.apply()"
      ],
      "execution_count": null,
      "outputs": []
    },
    {
      "cell_type": "markdown",
      "metadata": {
        "id": "8RQ_1RRMWucx"
      },
      "source": [
        "### Install Virus Total\n",
        "Now we go install Virus total Librarie."
      ]
    },
    {
      "cell_type": "code",
      "metadata": {
        "id": "0wGEzjmanXGs",
        "outputId": "da1b5ade-57ec-45f9-85bf-e5d0ea46e7c0",
        "colab": {
          "base_uri": "https://localhost:8080/",
          "height": 547
        }
      },
      "source": [
        "pip install vt-py"
      ],
      "execution_count": null,
      "outputs": [
        {
          "output_type": "stream",
          "text": [
            "Collecting vt-py\n",
            "  Downloading https://files.pythonhosted.org/packages/24/ec/38e917498c1fd5d8bef8e4277e7b370f18e951731abea13dc2c68ab9f2e5/vt-py-0.6.1.tar.gz\n",
            "Collecting aiohttp\n",
            "\u001b[?25l  Downloading https://files.pythonhosted.org/packages/78/a6/93acfa8f8b3573c4445ace2f266de62783231923706a4c3ab705e7d43497/aiohttp-3.6.3-cp36-cp36m-manylinux1_x86_64.whl (1.2MB)\n",
            "\u001b[K     |████████████████████████████████| 1.2MB 6.1MB/s \n",
            "\u001b[?25hRequirement already satisfied: attrs>=17.3.0 in /usr/local/lib/python3.6/dist-packages (from aiohttp->vt-py) (20.2.0)\n",
            "Collecting multidict<5.0,>=4.5\n",
            "\u001b[?25l  Downloading https://files.pythonhosted.org/packages/1a/95/f50352b5366e7d579e8b99631680a9e32e1b22adfa1629a8f23b1d22d5e2/multidict-4.7.6-cp36-cp36m-manylinux1_x86_64.whl (148kB)\n",
            "\u001b[K     |████████████████████████████████| 153kB 29.8MB/s \n",
            "\u001b[?25hCollecting idna-ssl>=1.0; python_version < \"3.7\"\n",
            "  Downloading https://files.pythonhosted.org/packages/46/03/07c4894aae38b0de52b52586b24bf189bb83e4ddabfe2e2c8f2419eec6f4/idna-ssl-1.1.0.tar.gz\n",
            "Collecting yarl<1.6.0,>=1.0\n",
            "\u001b[?25l  Downloading https://files.pythonhosted.org/packages/a0/b4/2cbeaf2c3ea53865d9613b315fe24e78c66acedb1df7e4be4e064c87203b/yarl-1.5.1-cp36-cp36m-manylinux1_x86_64.whl (257kB)\n",
            "\u001b[K     |████████████████████████████████| 266kB 26.3MB/s \n",
            "\u001b[?25hCollecting async-timeout<4.0,>=3.0\n",
            "  Downloading https://files.pythonhosted.org/packages/e1/1e/5a4441be21b0726c4464f3f23c8b19628372f606755a9d2e46c187e65ec4/async_timeout-3.0.1-py3-none-any.whl\n",
            "Requirement already satisfied: chardet<4.0,>=2.0 in /usr/local/lib/python3.6/dist-packages (from aiohttp->vt-py) (3.0.4)\n",
            "Requirement already satisfied: typing-extensions>=3.6.5; python_version < \"3.7\" in /usr/local/lib/python3.6/dist-packages (from aiohttp->vt-py) (3.7.4.3)\n",
            "Requirement already satisfied: idna>=2.0 in /usr/local/lib/python3.6/dist-packages (from idna-ssl>=1.0; python_version < \"3.7\"->aiohttp->vt-py) (2.10)\n",
            "Building wheels for collected packages: vt-py, idna-ssl\n",
            "  Building wheel for vt-py (setup.py) ... \u001b[?25l\u001b[?25hdone\n",
            "  Created wheel for vt-py: filename=vt_py-0.6.1-cp36-none-any.whl size=15741 sha256=1f687ca9070ff2afdc88b810ab32e6cd8c88e4410249eec3ed3ce8076133dd76\n",
            "  Stored in directory: /root/.cache/pip/wheels/53/a9/41/b570880202ab994bfd25d04747b329de373d858f39bb7cae7a\n",
            "  Building wheel for idna-ssl (setup.py) ... \u001b[?25l\u001b[?25hdone\n",
            "  Created wheel for idna-ssl: filename=idna_ssl-1.1.0-cp36-none-any.whl size=3161 sha256=e090da5cba2bb26788f08fc9403b8a669076665f35e0bb6f32286a9f569e92ba\n",
            "  Stored in directory: /root/.cache/pip/wheels/d3/00/b3/32d613e19e08a739751dd6bf998cfed277728f8b2127ad4eb7\n",
            "Successfully built vt-py idna-ssl\n",
            "Installing collected packages: multidict, idna-ssl, yarl, async-timeout, aiohttp, vt-py\n",
            "Successfully installed aiohttp-3.6.3 async-timeout-3.0.1 idna-ssl-1.1.0 multidict-4.7.6 vt-py-0.6.1 yarl-1.5.1\n"
          ],
          "name": "stdout"
        }
      ]
    },
    {
      "cell_type": "markdown",
      "metadata": {
        "id": "mlm5aG7mskLw"
      },
      "source": [
        "\n",
        "\n",
        "### Virus Total instance\n",
        "\n",
        "now we go import librarie of Virus Total"
      ]
    },
    {
      "cell_type": "code",
      "metadata": {
        "id": "eI74bmthswn9"
      },
      "source": [
        ">>> import vt"
      ],
      "execution_count": null,
      "outputs": []
    },
    {
      "cell_type": "markdown",
      "metadata": {
        "id": "rq9s1nfFxEhD"
      },
      "source": [
        "### Create a client with API key\n",
        "\n",
        "This step is needed to create conection with client of api, when arguments in parentheses is the key to conect with api\n",
        "\n",
        "\n"
      ]
    },
    {
      "cell_type": "code",
      "metadata": {
        "id": "jK3rkS6wtP0a"
      },
      "source": [
        ">>> client = vt.Client(\"5dfa64290f3542e775fbd0e76a4b03d6a02926bdaba940f7dcff114764157dfd\")"
      ],
      "execution_count": 5,
      "outputs": []
    },
    {
      "cell_type": "markdown",
      "metadata": {
        "id": "4RR4IAIaD61v"
      },
      "source": [
        "## Manipulating Malware file"
      ]
    },
    {
      "cell_type": "markdown",
      "metadata": {
        "id": "rXZNfqpb1X9J"
      },
      "source": [
        "### Copy Malware File\n",
        "Now we copy Virus file."
      ]
    },
    {
      "cell_type": "code",
      "metadata": {
        "id": "9frWcY2R0LrA"
      },
      "source": [
        "!cp drive/My\\ Drive/malware.zip malware.zip\n"
      ],
      "execution_count": 6,
      "outputs": []
    },
    {
      "cell_type": "markdown",
      "metadata": {
        "id": "78koqP0g1qtC"
      },
      "source": [
        "### Unzip the file\n"
      ]
    },
    {
      "cell_type": "code",
      "metadata": {
        "id": "D1nySZw312H9",
        "outputId": "af93ae24-b902-4243-8c68-4c57b8f3677c",
        "colab": {
          "base_uri": "https://localhost:8080/",
          "height": 52
        }
      },
      "source": [
        "!unzip -j -P infected /content/malware.zip"
      ],
      "execution_count": 7,
      "outputs": [
        {
          "output_type": "stream",
          "text": [
            "Archive:  /content/malware.zip\n",
            "  inflating: 3a411c1f2e55d7e21318a32d1527f8ebd7ab76d873368acbb573e67b89257f5e  \n"
          ],
          "name": "stdout"
        }
      ]
    },
    {
      "cell_type": "markdown",
      "metadata": {
        "id": "hPAuv-F_3eI6"
      },
      "source": [
        "### Instance of file\n",
        "This is an instance of file, for take requests on API"
      ]
    },
    {
      "cell_type": "code",
      "metadata": {
        "id": "qc7_Lyc2tYV9"
      },
      "source": [
        "\n",
        "file = client.get_object(\"/files/3a411c1f2e55d7e21318a32d1527f8ebd7ab76d873368acbb573e67b89257f5e\")\n"
      ],
      "execution_count": 8,
      "outputs": []
    },
    {
      "cell_type": "markdown",
      "metadata": {
        "id": "TCgZEFmBxUx4"
      },
      "source": [
        "### Get informations about File"
      ]
    },
    {
      "cell_type": "markdown",
      "metadata": {
        "id": "wiJKy7FI4yoZ"
      },
      "source": [
        "#### Size of File"
      ]
    },
    {
      "cell_type": "code",
      "metadata": {
        "id": "Srbpx0nZQiCF",
        "outputId": "1ce2c93b-6634-480c-f3ef-5600d77a6e23",
        "colab": {
          "base_uri": "https://localhost:8080/",
          "height": 34
        }
      },
      "source": [
        "file.size\n"
      ],
      "execution_count": 9,
      "outputs": [
        {
          "output_type": "execute_result",
          "data": {
            "text/plain": [
              "2408940"
            ]
          },
          "metadata": {
            "tags": []
          },
          "execution_count": 9
        }
      ]
    },
    {
      "cell_type": "markdown",
      "metadata": {
        "id": "cWc2OjPg4YlO"
      },
      "source": [
        "#### Type of archive"
      ]
    },
    {
      "cell_type": "code",
      "metadata": {
        "id": "58LvVnh_49Ds",
        "outputId": "21c65393-774d-4502-d2d1-fec8119814f9",
        "colab": {
          "base_uri": "https://localhost:8080/",
          "height": 36
        }
      },
      "source": [
        "file.type_tag"
      ],
      "execution_count": 10,
      "outputs": [
        {
          "output_type": "execute_result",
          "data": {
            "application/vnd.google.colaboratory.intrinsic+json": {
              "type": "string"
            },
            "text/plain": [
              "'peexe'"
            ]
          },
          "metadata": {
            "tags": []
          },
          "execution_count": 10
        }
      ]
    },
    {
      "cell_type": "markdown",
      "metadata": {
        "id": "pqDVJmY_5NI9"
      },
      "source": [
        "## Expected result\n",
        "\n",
        "The expected result for this analysis is that the malicious point is greater than zero.\n",
        "\n"
      ]
    },
    {
      "cell_type": "code",
      "metadata": {
        "id": "m8PqA0Qy5Qft",
        "outputId": "a9c48e09-4597-4baf-fb02-a2876510a46f",
        "colab": {
          "base_uri": "https://localhost:8080/",
          "height": 158
        }
      },
      "source": [
        "file.last_analysis_stats"
      ],
      "execution_count": 11,
      "outputs": [
        {
          "output_type": "execute_result",
          "data": {
            "text/plain": [
              "{'confirmed-timeout': 0,\n",
              " 'failure': 0,\n",
              " 'harmless': 0,\n",
              " 'malicious': 5,\n",
              " 'suspicious': 0,\n",
              " 'timeout': 0,\n",
              " 'type-unsupported': 4,\n",
              " 'undetected': 66}"
            ]
          },
          "metadata": {
            "tags": []
          },
          "execution_count": 11
        }
      ]
    },
    {
      "cell_type": "markdown",
      "metadata": {
        "id": "lppko3CdNQQ3"
      },
      "source": [
        "## Conclusion\n"
      ]
    },
    {
      "cell_type": "markdown",
      "metadata": {
        "id": "MfiVvA5fL0pQ"
      },
      "source": [
        "Due to the result being different from 0 the file can be classified as malware."
      ]
    }
  ]
}